{
 "cells": [
  {
   "cell_type": "code",
   "execution_count": 2,
   "id": "296db42c-1d02-43c1-891c-cbdbab3c1eed",
   "metadata": {},
   "outputs": [],
   "source": [
    "\"\"\"Q1. Explain Class and Object with respect to Object-Oriented Programming. Give a suitable example.\n",
    "Ans:\n",
    "\n",
    "In Object-Oriented Programming Class defines the general behavior that a whole category of objects can have. On the other hand \n",
    "objects are instances of a class created with specifically defined data. Objects can correspond to real-world objects or an abstract entity\n",
    "while class is a blueprint or a template that defines the structure and behavior of objects\n",
    "Example:\"\"\"\n",
    "\n",
    "class Dog():\n",
    "    \n",
    "    def __init__(self, name, age):\n",
    "        self.name = name\n",
    "        self.age = age\n",
    "\n",
    "dog1 = Dog(\"John\", 5)\n",
    "dog2 = Dog(\"Jenny\", 4)"
   ]
  },
  {
   "cell_type": "code",
   "execution_count": 3,
   "id": "bc9b444a-3130-4e69-8972-bef238620918",
   "metadata": {},
   "outputs": [
    {
     "data": {
      "text/plain": [
       "'Q2. Name the four pillars of OOPs.\\nAns:\\n\\nThe Four Pillars of OOPs are:\\n1. Abstraction.\\n2. Encapsulation.\\n3. Inheritance.\\n4. Polymorphism.'"
      ]
     },
     "execution_count": 3,
     "metadata": {},
     "output_type": "execute_result"
    }
   ],
   "source": [
    "\"\"\"Q2. Name the four pillars of OOPs.\n",
    "Ans:\n",
    "\n",
    "The Four Pillars of OOPs are:\n",
    "1. Abstraction.\n",
    "2. Encapsulation.\n",
    "3. Inheritance.\n",
    "4. Polymorphism.\"\"\""
   ]
  },
  {
   "cell_type": "code",
   "execution_count": 9,
   "id": "6e500942-a7b5-445e-8219-f05d197f1d37",
   "metadata": {},
   "outputs": [
    {
     "data": {
      "text/plain": [
       "2022"
      ]
     },
     "execution_count": 9,
     "metadata": {},
     "output_type": "execute_result"
    }
   ],
   "source": [
    "\"\"\"Q3. Explain why the __init__() function is used. Give a suitable example.\n",
    "Ans:\n",
    "\n",
    "The __init__() method at w is a special method\n",
    "Python runs automatically whenever we create a new instance based on the class. It is automatically called when an object\n",
    "of that class is instantiated or created. The main purpose of the __init__() function is to initialize the attributes or \n",
    "properties of the object with the provided values or default values.\"\"\"\n",
    "\n",
    "class Car:\n",
    "    def __init__(self, make, model, year):\n",
    "        self.make = make\n",
    "        self.model = model\n",
    "        self.year = year\n",
    "\n",
    "\n",
    "car1 = Car(\"Mahindra\", \"Thar\", 2022,)\n",
    "car1.make\n",
    "car1.model\n",
    "car1.year"
   ]
  },
  {
   "cell_type": "code",
   "execution_count": 10,
   "id": "6cbb1abc-2cad-429d-9932-d3e611f2f1d2",
   "metadata": {},
   "outputs": [
    {
     "data": {
      "text/plain": [
       "'Q4. Why self is used in OOPs?\\nAns: \\n\\nThe self parameter is required in the method definition, and it must come first before the other parameters. \\nIt must be included in the definition because when Python calls this __init__() method later (to create an\\ninstance of Dog), the method call will automatically pass the self argument. In object-oriented programming (OOP),\\nself is a conventionally used parameter.'"
      ]
     },
     "execution_count": 10,
     "metadata": {},
     "output_type": "execute_result"
    }
   ],
   "source": [
    "\"\"\"Q4. Why self is used in OOPs?\n",
    "Ans: \n",
    "\n",
    "The self parameter is required in the method definition, and it must come first before the other parameters. \n",
    "It must be included in the definition because when Python calls this __init__() method later (to create an\n",
    "instance of Dog), the method call will automatically pass the self argument. In object-oriented programming (OOP),\n",
    "self is a conventionally used parameter.\"\"\""
   ]
  },
  {
   "cell_type": "code",
   "execution_count": 21,
   "id": "9895eb6d-d92d-4b7e-ba69-1044e13418b4",
   "metadata": {},
   "outputs": [
    {
     "name": "stdout",
     "output_type": "stream",
     "text": [
      "The animal can fly.\n",
      "This animal have wings\n"
     ]
    },
    {
     "ename": "TypeError",
     "evalue": "Animal.__init__() missing 1 required positional argument: 'species'",
     "output_type": "error",
     "traceback": [
      "\u001b[0;31m---------------------------------------------------------------------------\u001b[0m",
      "\u001b[0;31mTypeError\u001b[0m                                 Traceback (most recent call last)",
      "Cell \u001b[0;32mIn[21], line 73\u001b[0m\n\u001b[1;32m     70\u001b[0m     \u001b[38;5;28;01mdef\u001b[39;00m \u001b[38;5;21mmake_sound\u001b[39m(\u001b[38;5;28mself\u001b[39m):\n\u001b[1;32m     71\u001b[0m         \u001b[38;5;28mprint\u001b[39m(\u001b[38;5;124m\"\u001b[39m\u001b[38;5;124mThe lion roars\u001b[39m\u001b[38;5;124m\"\u001b[39m)\n\u001b[0;32m---> 73\u001b[0m obj \u001b[38;5;241m=\u001b[39m \u001b[43mLion\u001b[49m\u001b[43m(\u001b[49m\u001b[43m)\u001b[49m\n\u001b[1;32m     75\u001b[0m obj\u001b[38;5;241m.\u001b[39mmake_sound\n",
      "\u001b[0;31mTypeError\u001b[0m: Animal.__init__() missing 1 required positional argument: 'species'"
     ]
    }
   ],
   "source": [
    "\"\"\"Q5. What is inheritance? Give an example for each type of inheritance.\n",
    "Ans:\n",
    "\n",
    "The concept that one class can inherit traits from another class is known as inheritance. \n",
    "The class that inherits is called a derived class, and the class from which it \n",
    "inherits is called the base class.\n",
    "\n",
    "1. Single Inheritance: In this type of inheritance, a class inherits properties and methods from a single parent class.\"\"\"\n",
    "\n",
    "class Animal:\n",
    "    def __init__(self, species):\n",
    "        self.species = species\n",
    "\n",
    "class Dog(Animal):\n",
    "    def __init__(self, breed):\n",
    "        self.breed = breed\n",
    "\n",
    "\"\"\"2. Multiple Inheritance: In this type of inheritance, a class inherits properties and methods from more than one parent class.\"\"\"\n",
    "\n",
    "class Animal:\n",
    "    def __init__(self, species):\n",
    "        self.species = species\n",
    "\n",
    "    def make_sound(self):\n",
    "        print(\"The animal makes a sound.\")\n",
    "\n",
    "\n",
    "class CanFly:\n",
    "    def fly(self):\n",
    "        print(\"The animal can fly.\")\n",
    "\n",
    "\n",
    "class Bird(Animal, CanFly):\n",
    "    print(\"The can fly and crips\")\n",
    "\n",
    "\"\"\"3. Multilevel Inheritance: In this type of inheritance, a class inherits properties and methods from a parent class, which in turn inherits from another parent class.\"\"\"\n",
    "\n",
    "class Animal:\n",
    "    def __init__(self, species):\n",
    "        self.species = species\n",
    "\n",
    "    def make_sound(self):\n",
    "        print(\"The animal makes a sound.\")\n",
    "\n",
    "\n",
    "class CanFly(Animal):\n",
    "        print(\"The animal can fly.\")\n",
    "\n",
    "\n",
    "class Havewings(CanFly):\n",
    "        print(\"This animal have wings\")\n",
    "\n",
    "\"\"\"4. Hierarchical Inheritance: In this type of inheritance, multiple classes inherit properties and methods from a single parent class.\"\"\"\n",
    "\n",
    "class Animal:\n",
    "    def __init__(self, species):\n",
    "        self.species = species\n",
    "\n",
    "    def make_sound(self):\n",
    "        print(\"The animal makes a sound.\")\n",
    "\n",
    "\n",
    "class Cat(Animal):\n",
    "    def make_sound(self):\n",
    "        print(\"The cat meows.\")\n",
    "\n",
    "\n",
    "class Lion(Animal):\n",
    "    def make_sound(self):\n",
    "        print(\"The lion roars\")"
   ]
  },
  {
   "cell_type": "code",
   "execution_count": null,
   "id": "aed4980b-ed9a-4d2c-bdad-77ff5fd83be1",
   "metadata": {},
   "outputs": [],
   "source": []
  }
 ],
 "metadata": {
  "kernelspec": {
   "display_name": "Python 3 (ipykernel)",
   "language": "python",
   "name": "python3"
  },
  "language_info": {
   "codemirror_mode": {
    "name": "ipython",
    "version": 3
   },
   "file_extension": ".py",
   "mimetype": "text/x-python",
   "name": "python",
   "nbconvert_exporter": "python",
   "pygments_lexer": "ipython3",
   "version": "3.10.8"
  }
 },
 "nbformat": 4,
 "nbformat_minor": 5
}
